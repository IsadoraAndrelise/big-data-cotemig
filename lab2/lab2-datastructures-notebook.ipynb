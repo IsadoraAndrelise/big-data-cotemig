def flip_dict(d):
    """Swap the keys and values in a dictionary, where duplicated values map to a list of keys
    The easiest way to solve this problem is by looping over the keys and values
    of the dictionary using `.items()`. If the value hasn't been seen before, we need
    to set some reasonable default value in our dictionary - in this case, a list to
    store the associated keys. Then, we can append (in-place!) our key to the list
    of keys associated to this value.
    It's possible to write this update step in one line using the default of `.get()`
        out[value] = out.get(value, []).append(key)
    However, I don't think that looks nearly as readable.
    Note: there is a tool in the `collections` module from the standard library
    called `defaultdict` which exports this functionality. You provide it a factory
    method for creating default values in the dictionary (in this case, a list.)
    """
    out = {}
    for key, value in d.items():
        if value not in out:
            out[value] = []
        out[value].append(key)
    return out


def comprehension_read():
    """Practice reading comprehensions and explore oddities with function calls
    Each list comprehension is replicated below with an explanation:
    [x for x in [1, 2, 3, 4]]
    # => [1, 2, 3, 4]
        Constructs a list containing exactly the elements in [1, 2, 3, 4].
        Not a very interesting list comprehension at all, since the `x for x`
        means that no transformation will happen over the range.
    [n - 2 for n in range(10)]
    # => [-2, -1, 0, 1, 2, 3, 4, 5, 6, 7]
        Subtracts 2 from each of the elements in range(10). For example, the
        first element of range(10) is n = 0, so the first element of our generated
        list is n - 2 = -2. The pattern then continues for the rest of the elements.
    [k % 10 for k in range(41) if k % 3 == 0]
    # => [0, 3, 6, 9, 2, 5, 8, 1, 4, 7, 0, 3, 6, 9]
        Gets the last digit of any number under 41 that is a multiple of 3.
        Note that the `if k % 3 == 0` is a filtering condition! We'll see more
        about filtering Week 4.
    [s.lower() for s in ['PythOn', 'iS', 'cOoL'] if s[0] < s[-1]]
    # => ['python']
        Builds the lowercased words if the first character is smaller than
        the last character.
        For example, when s = 'Python', we have s[0] = 'P' and s[-1] = 'n',
        and since 'P' < 'n' (compared by ASCII values), we pass our filter
        condition, and so contribute 'python' to the final list.
        On the other hand, both 'iS' and 'cOoL' do not satisfy s[0] < s[-1],
        so they are not passed to s.lower() for inclusion in the final list.
    arr = [[3,2,1], ['a','b','c'], [('do',), ['re'], 'mi']]
    print([el.append(el[0] * 4) for el in arr])
    # => [None, None, None]
    print(arr)
    # => [
      [3, 2, 1, 12],
      ['a', 'b', 'c', 'aaaa'],
      [('do',), ['re'], 'mi', ('do', 'do', 'do', 'do')]
    ]
        What's going on here? .append() is a function that returns None,
        so the list comprehension returns a list of three Nones, but the
        effect of the append still takes place - that is, the array elements
        themselves are still updated. Since 3 is an integer, 3 * 4 = 12 is
        appended to the end of the first list. Since 'a' is a string,
        'a' * 4 = 'aaaa' is appended to the end of the second list. Since
        ('do',) is a tuple, ('do',) * 4 = ('do', 'do', 'do', 'do') is appended
        to the end of the third list. Note that this is an example of duck-typing
        in action!
    [letter for letter in "pYthON" if letter.isupper()]
    # => ['Y', 'O', 'N']
        Simple enough. Keeps only the upper case letters in "pYthON", which are
        'Y', 'O', and 'N'. Interesting, the result is a list of characters, not
        a string, as you might guess. This is because the list comprehension
        traverses the string "pYthON" as a sequence of 1-character strings.
    {len(w) for w in ["its", "the", "remix", "to", "ignition"]}
    # => {2, 3, 5, 8}
        Our first set comprehension, this gives all the unique lengths of words
        in the argument list, which in this case are [3, 3, 5, 2, 8] respectively.
        Since sets don't keep duplicate elements, we're left with {2, 3, 5, 8}.
    """
    print([x for x in [1, 2, 3, 4]])
    print([n - 2 for n in range(10)])
    print([k % 10 for k in range(41) if k % 3 == 0])
    print([s.lower() for s in ['PythOn', 'iS', 'cOoL'] if s[0] < s[-1]])

    # Something is fishy here. Can you spot it?
    arr = [[3,2,1], ['a','b','c'], [('do',), ['re'], 'mi']]
    print([el.append(el[0] * 4) for el in arr])  # => [None, None, None]
    print(arr)

    print([letter for letter in "pYthON" if letter.isupper()])
    print({len(w) for w in ["its", "the", "remix", "to", "ignition"]})


def comprehension_write():
    """Practice writing comprehensions.
    To generate [1, 3, 5, 7] from [0, 1, 2, 3], we need to multiply each element
    by 2 and add 1.
        [2 * num + 1 for num in nums]
    To get the first capitalized letter, we convert the 0th character to uppercase.
        [fruit[0].upper() for fruit in fruits]
    To keep only 'apple' and 'pear', we filter on whether the fruit has a 'p' in it
    (although we could use any other appropriate test as well).
        [fruit for fruit in fruits if 'p' in fruit]
    To extract the TA's names from a class list, we first filter by whether the
    element starts with 'TA_' and then extract the name using slice syntax.
        [name[3:] for name in people if name.startswith('TA_')]
    To construct a list of tuples, we can build the tuples on the fly inside the list
    comprehension.
        [(fruit, len(fruit)) for fruit in fruits]
    To build a dictionary mapping fruits to their lengths, we can use a dictionary
    comprehension with syntax {key_fn(el): value_fn(el) for el in collection}
        {fruit:len(fruit) for fruit in fruits}
    """
    nums = [0, 1, 2, 3]
    fruits = ['apple', 'orange', 'pear']
    people = ["TA_sam", "TA_guido", "student_poohbear", "student_htiek"]

    print([2 * num + 1 for num in nums])  # [1, 3, 5, 7]

    print([fruit[0].upper() for fruit in fruits])  # ['A', 'O', 'P']
    print([fruit for fruit in fruits if 'p' in fruit])  # ['apple', 'pear']

    print([name[3:] for name in people if name.startswith('TA_')])  # ["sam", "guido"]
    print([(fruit, len(fruit)) for fruit in fruits])  # [('apple', 5), ('orange', 6), ('pear', 4)]
    print({fruit:len(fruit) for fruit in fruits})  # {'orange': 6, 'apple': 5, 'pear': 4}
